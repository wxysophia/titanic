{
 "cells": [
  {
   "cell_type": "markdown",
   "metadata": {},
   "source": [
    "##                        Titanic 分析报告\n",
    "### 1.问题：\n",
    "\n",
    "（1）\ttitanic乘客的基本情况？<br /> \n",
    "（2）\t存活和遇难乘客的基本情况？<br /> \n",
    "（3）\t是否存活与乘客的基本情况（比如年龄，性别，经济情况）等的相关性？<br /> \n",
    "\n"
   ]
  },
  {
   "cell_type": "code",
   "execution_count": 2,
   "metadata": {
    "collapsed": true
   },
   "outputs": [],
   "source": [
    "import matplotlib.pyplot as plt\n",
    "import numpy as np\n",
    "import pandas as pd\n",
    "import seaborn as sns\n",
    "    \n",
    "   "
   ]
  },
  {
   "cell_type": "code",
   "execution_count": 3,
   "metadata": {
    "collapsed": true
   },
   "outputs": [],
   "source": [
    "titanic=pd.read_csv('/Users/wxy/Downloads/titanic_data.csv')"
   ]
  },
  {
   "cell_type": "code",
   "execution_count": 4,
   "metadata": {
    "collapsed": false
   },
   "outputs": [
    {
     "name": "stdout",
     "output_type": "stream",
     "text": [
      "<class 'pandas.core.frame.DataFrame'>\n",
      "RangeIndex: 891 entries, 0 to 890\n",
      "Data columns (total 12 columns):\n",
      "PassengerId    891 non-null int64\n",
      "Survived       891 non-null int64\n",
      "Pclass         891 non-null int64\n",
      "Name           891 non-null object\n",
      "Sex            891 non-null object\n",
      "Age            714 non-null float64\n",
      "SibSp          891 non-null int64\n",
      "Parch          891 non-null int64\n",
      "Ticket         891 non-null object\n",
      "Fare           891 non-null float64\n",
      "Cabin          204 non-null object\n",
      "Embarked       889 non-null object\n",
      "dtypes: float64(2), int64(5), object(5)\n",
      "memory usage: 83.6+ KB\n",
      "None\n"
     ]
    }
   ],
   "source": [
    "print titanic.info()"
   ]
  },
  {
   "cell_type": "code",
   "execution_count": 5,
   "metadata": {
    "collapsed": false
   },
   "outputs": [
    {
     "name": "stdout",
     "output_type": "stream",
     "text": [
      "712\n"
     ]
    }
   ],
   "source": [
    "titanic=titanic.drop('Cabin',1)\n",
    "titanic=titanic.dropna()\n",
    "print len(titanic)"
   ]
  },
  {
   "cell_type": "markdown",
   "metadata": {},
   "source": [
    "### 2.数据整理:\n",
    "\n",
    "#### 2.1 剔除缺失数据\n",
    "    对数据的缺失情况进行调查后发现，泰塔尼克号共891名乘客，其中Age变量中共177处缺失，Cabin共687处缺失，Embarked共两处缺失。由于Cabin对未来分析影响不大，剔除Cabin变量，再后续分析中剔除含有缺失数据的179名乘客。<br /> \n",
    "\n",
    "\n",
    "\n"
   ]
  },
  {
   "cell_type": "code",
   "execution_count": 6,
   "metadata": {
    "collapsed": true
   },
   "outputs": [],
   "source": [
    "#对Sex变量重新赋值，1为女性，2为男性\n",
    "def changesex(data):\n",
    "    if data=='female':\n",
    "        return 1\n",
    "    else:\n",
    "        return 2\n",
    "    "
   ]
  },
  {
   "cell_type": "code",
   "execution_count": 7,
   "metadata": {
    "collapsed": false
   },
   "outputs": [],
   "source": [
    "#利用changesex函数得到新的性别变量sex\n",
    "sex=titanic['Sex'].apply(changesex)\n",
    "titanic['sex']=sex"
   ]
  },
  {
   "cell_type": "markdown",
   "metadata": {},
   "source": [
    "#### 2.2 变量赋值\n",
    "为方便后续的分析，首先对数据中的Sex变量重新进行赋值，“femal”赋值为1，“male”赋值为2，生成新的变量sex；"
   ]
  },
  {
   "cell_type": "code",
   "execution_count": 10,
   "metadata": {
    "collapsed": false
   },
   "outputs": [
    {
     "data": {
      "text/plain": [
       "count    712.000000\n",
       "mean      29.642093\n",
       "std       14.492933\n",
       "min        0.420000\n",
       "25%       20.000000\n",
       "50%       28.000000\n",
       "75%       38.000000\n",
       "max       80.000000\n",
       "Name: Age, dtype: float64"
      ]
     },
     "execution_count": 10,
     "metadata": {},
     "output_type": "execute_result"
    }
   ],
   "source": [
    "titanic['Age'].describe()"
   ]
  },
  {
   "cell_type": "code",
   "execution_count": 42,
   "metadata": {
    "collapsed": false
   },
   "outputs": [
    {
     "name": "stdout",
     "output_type": "stream",
     "text": [
      "Populating the interactive namespace from numpy and matplotlib\n"
     ]
    },
    {
     "data": {
      "text/plain": [
       "<matplotlib.text.Text at 0x111728b50>"
      ]
     },
     "execution_count": 42,
     "metadata": {},
     "output_type": "execute_result"
    },
    {
     "data": {
      "image/png": "[encoded data removed]",
      "text/plain": [
       "<matplotlib.figure.Figure at 0x110ac4e50>"
      ]
     },
     "metadata": {},
     "output_type": "display_data"
    }
   ],
   "source": [
    "%pylab inline\n",
    "titanic['Age'].hist()\n",
    "plt.title('Figure 1 The distribution for age')"
   ]
  },
  {
   "cell_type": "markdown",
   "metadata": {},
   "source": [
    "### 3 数据探索\n",
    "#### 3.1 乘客年龄分布\n",
    "    712名乘客的平均年龄为29.6岁，最低年龄为未满一岁的婴儿，最大年龄为80岁。乘客的年龄分布见图1(Figure 1 The distribution for age),从图中可以看出大部分乘客的年龄处于20岁到40岁之间，年龄大于70岁的乘客较少。\n",
    "    \n",
    "\n",
    "  \n"
   ]
  },
  {
   "cell_type": "code",
   "execution_count": 19,
   "metadata": {
    "collapsed": false
   },
   "outputs": [
    {
     "name": "stdout",
     "output_type": "stream",
     "text": [
      "Sex\n",
      "female    259\n",
      "male      453\n",
      "Name: Survived, dtype: int64\n",
      "Populating the interactive namespace from numpy and matplotlib\n"
     ]
    },
    {
     "data": {
      "text/plain": [
       "<matplotlib.text.Text at 0x11a823c10>"
      ]
     },
     "execution_count": 19,
     "metadata": {},
     "output_type": "execute_result"
    },
    {
     "data": {
      "image/png": "[encoded data removed]",
      "text/plain": [
       "<matplotlib.figure.Figure at 0x116dd5e90>"
      ]
     },
     "metadata": {},
     "output_type": "display_data"
    }
   ],
   "source": [
    "gender=titanic.groupby('Sex')['Survived'].count()\n",
    "\n",
    "print gender\n",
    "%pylab inline\n",
    "label=['female','male']\n",
    "plt.pie(gender,labels=label,autopct='%1.1f%%')\n",
    "plt.title('Figure 2 The pie plot for gender')"
   ]
  },
  {
   "cell_type": "markdown",
   "metadata": {},
   "source": [
    "#### 3.2 乘客性别分布\n",
    "    712名乘客中共259名女性以及453名男性，男女比例见图2(Figure 2 The pie plot for gender),从图中可以看出，乘客中男性比例较高，为63.6%，女性比例较低，为36.4%。"
   ]
  },
  {
   "cell_type": "code",
   "execution_count": 22,
   "metadata": {
    "collapsed": false
   },
   "outputs": [
    {
     "data": {
      "text/plain": [
       "count    712.000000\n",
       "mean      34.567251\n",
       "std       52.938648\n",
       "min        0.000000\n",
       "25%        8.050000\n",
       "50%       15.645850\n",
       "75%       33.000000\n",
       "max      512.329200\n",
       "Name: Fare, dtype: float64"
      ]
     },
     "execution_count": 22,
     "metadata": {},
     "output_type": "execute_result"
    }
   ],
   "source": [
    "titanic['Fare'].describe()"
   ]
  },
  {
   "cell_type": "code",
   "execution_count": 23,
   "metadata": {
    "collapsed": false
   },
   "outputs": [
    {
     "data": {
      "text/plain": [
       "<matplotlib.text.Text at 0x11a88c5d0>"
      ]
     },
     "execution_count": 23,
     "metadata": {},
     "output_type": "execute_result"
    },
    {
     "data": {
      "image/png": "[encoded data removed]",
      "text/plain": [
       "<matplotlib.figure.Figure at 0x11a471d90>"
      ]
     },
     "metadata": {},
     "output_type": "display_data"
    }
   ],
   "source": [
    "\n",
    "titanic['Fare'].hist()\n",
    "plt.title('Figure 3 The distribution for Fare')\n",
    "\n"
   ]
  },
  {
   "cell_type": "markdown",
   "metadata": {},
   "source": [
    "#### 3.3 乘客船费分布\n",
    "    712名乘客的平均旅费为34.56元，最低旅费0元，最高为512元，大部分乘客的旅费在0 到50元之间，见图3(Figure 3 The distribution for Fare)"
   ]
  },
  {
   "cell_type": "code",
   "execution_count": 29,
   "metadata": {
    "collapsed": false
   },
   "outputs": [
    {
     "name": "stdout",
     "output_type": "stream",
     "text": [
      "Pclass\n",
      "1    184\n",
      "2    173\n",
      "3    355\n",
      "Name: Survived, dtype: int64\n"
     ]
    },
    {
     "data": {
      "text/plain": [
       "<matplotlib.text.Text at 0x11ab46490>"
      ]
     },
     "execution_count": 29,
     "metadata": {},
     "output_type": "execute_result"
    },
    {
     "data": {
      "image/png": "[encoded data removed]",
      "text/plain": [
       "<matplotlib.figure.Figure at 0x11a8523d0>"
      ]
     },
     "metadata": {},
     "output_type": "display_data"
    }
   ],
   "source": [
    "pclass=titanic.groupby('Pclass')['Survived'].count()\n",
    "print pclass\n",
    "label=['1st','2nd','3rd']\n",
    "plt.pie(pclass,labels=label,autopct='%1.1f%%')\n",
    "plt.title('Figure 4 The pie plot for Pclass')"
   ]
  },
  {
   "cell_type": "markdown",
   "metadata": {},
   "source": [
    "#### 3.4 乘客船舱等级分布\n",
    "    712名乘客中有184名位于一等舱，占25.8%，173名乘客在二等舱，占24.3%，355名乘客位于三等舱，占40.9%。从图4(Figure 4 The pie plot for Pclass)可见大部分乘客位于三等舱，一等舱和二等舱乘客各占约1/4。"
   ]
  },
  {
   "cell_type": "code",
   "execution_count": 32,
   "metadata": {
    "collapsed": false
   },
   "outputs": [
    {
     "name": "stdout",
     "output_type": "stream",
     "text": [
      "Survived\n",
      "0    424\n",
      "1    288\n",
      "Name: Sex, dtype: int64\n"
     ]
    },
    {
     "data": {
      "text/plain": [
       "<matplotlib.text.Text at 0x11ae27690>"
      ]
     },
     "execution_count": 32,
     "metadata": {},
     "output_type": "execute_result"
    },
    {
     "data": {
      "image/png": "[encoded data removed]",
      "text/plain": [
       "<matplotlib.figure.Figure at 0x11a61bcd0>"
      ]
     },
     "metadata": {},
     "output_type": "display_data"
    }
   ],
   "source": [
    "sur=titanic.groupby('Survived')['Sex'].count()\n",
    "print sur\n",
    "label=['unsurvived','survived']\n",
    "plt.pie(sur,labels=label,autopct='%1.1f%%')\n",
    "plt.title('Figure 5 The pie plot for Survival Rate')"
   ]
  },
  {
   "cell_type": "markdown",
   "metadata": {},
   "source": [
    "#### 3.5 乘客获救和遇难情况\n",
    "    712名乘客中最终有424名(59.6%)乘客不幸遇难，288名(40.4%)乘客得以存活，存活比例较低,见图5（Figure 5 The pie plot for Survival Rate）。"
   ]
  },
  {
   "cell_type": "code",
   "execution_count": 34,
   "metadata": {
    "collapsed": false
   },
   "outputs": [
    {
     "name": "stdout",
     "output_type": "stream",
     "text": [
      "Sex\n",
      "female    0.752896\n",
      "male      0.205298\n",
      "Name: Survived, dtype: float64\n"
     ]
    }
   ],
   "source": [
    "print titanic.groupby('Sex')['Survived'].mean()"
   ]
  },
  {
   "cell_type": "code",
   "execution_count": 33,
   "metadata": {
    "collapsed": false
   },
   "outputs": [
    {
     "data": {
      "text/plain": [
       "<matplotlib.text.Text at 0x11aee1850>"
      ]
     },
     "execution_count": 33,
     "metadata": {},
     "output_type": "execute_result"
    },
    {
     "data": {
      "image/png": "[encoded data removed]",
      "text/plain": [
       "<matplotlib.figure.Figure at 0x11ad66f10>"
      ]
     },
     "metadata": {},
     "output_type": "display_data"
    }
   ],
   "source": [
    "\n",
    "titanic.groupby('sex')['Survived'].mean().plot(kind='bar')\n",
    "plt.ylabel('Survival Rate')\n",
    "ax=plt.gca()  \n",
    "ax.set_xticklabels(['Female','Male'])\n",
    "plt.title('Figure 6 Barplot of survival rate by gender')"
   ]
  },
  {
   "cell_type": "markdown",
   "metadata": {},
   "source": [
    "在存活的288名乘客中，有195名(68%)女性,占女性总人数的 75%,以及93名(32%)男性，占男性总人数的21%，存活乘客的男女比例见图6（Figure 6 Barplot of survival rate by gender），从图中可以看出女性乘客的幸存比例较高。"
   ]
  },
  {
   "cell_type": "code",
   "execution_count": 36,
   "metadata": {
    "collapsed": false
   },
   "outputs": [
    {
     "name": "stdout",
     "output_type": "stream",
     "text": [
      "Survived\n",
      "0    30.626179\n",
      "1    28.193299\n",
      "Name: Age, dtype: float64\n",
      "Survived\n",
      "0    14.172110\n",
      "1    14.859146\n",
      "Name: Age, dtype: float64\n"
     ]
    }
   ],
   "source": [
    "print titanic.groupby('Survived')['Age'].mean()\n",
    "print titanic.groupby('Survived')['Age'].std()"
   ]
  },
  {
   "cell_type": "code",
   "execution_count": 34,
   "metadata": {
    "collapsed": false
   },
   "outputs": [
    {
     "data": {
      "text/plain": [
       "<matplotlib.text.Text at 0x11b0b81d0>"
      ]
     },
     "execution_count": 34,
     "metadata": {},
     "output_type": "execute_result"
    },
    {
     "data": {
      "image/png": "[encoded data removed]",
      "text/plain": [
       "<matplotlib.figure.Figure at 0x11afb7ad0>"
      ]
     },
     "metadata": {},
     "output_type": "display_data"
    }
   ],
   "source": [
    "abox=titanic.boxplot(column='Age', by='Survived',showfliers=False)\n",
    "abox.set_xticklabels(['unsurvived','survived'])\n",
    "plt.title('Figure 7 Boxplot of age for survived and unsurvived passengers')\n",
    "\n"
   ]
  },
  {
   "cell_type": "code",
   "execution_count": 52,
   "metadata": {
    "collapsed": false
   },
   "outputs": [
    {
     "name": "stdout",
     "output_type": "stream",
     "text": [
      "age-group\n",
      "(0, 10]     0.593750\n",
      "(10, 20]    0.382609\n",
      "(20, 30]    0.365217\n",
      "(30, 40]    0.441558\n",
      "(40, 50]    0.383721\n",
      "(50, 60]    0.404762\n",
      "(60, 70]    0.187500\n",
      "(70, 80]    0.200000\n",
      "Name: Survived, dtype: float64\n"
     ]
    },
    {
     "data": {
      "text/plain": [
       "<matplotlib.text.Text at 0x11b4ebcd0>"
      ]
     },
     "execution_count": 52,
     "metadata": {},
     "output_type": "execute_result"
    },
    {
     "data": {
      "image/png": "[encoded data removed]",
      "text/plain": [
       "<matplotlib.figure.Figure at 0x11a58cb50>"
      ]
     },
     "metadata": {},
     "output_type": "display_data"
    }
   ],
   "source": [
    "bins= np.arange(0,90,10)\n",
    "titanic['age-group']=pd.cut(titanic['Age'],bins)\n",
    "sa=titanic.groupby('age-group')['Survived'].mean()\n",
    "print sa\n",
    "\n",
    "sa.plot(kind='bar')\n",
    "plt.title('Figure 8 The Barplot for survival rate in different age groups')"
   ]
  },
  {
   "cell_type": "markdown",
   "metadata": {},
   "source": [
    "幸存乘客的平均年龄约为28.19±14.86岁，而遇难乘客的平均年龄约为30.63±14.17岁，幸存和遇难乘客的年龄对比箱式图见图7（Figure 7 Boxplot of age for survived and unsurvived passengers），结果显示存活和遇难的乘客年龄分布没有太大差距。在进一步的分析中，对年龄进行分组，从0到80岁，10岁为一个间隔进行分组，得到每个年龄组的存活率，结果见图8（Figure 8 The Barplot for survival rate in different age groups），从图中可以看出0到10岁的儿童存活率最高，约59%，60到70岁组的存活率最低，为18.7%。"
   ]
  },
  {
   "cell_type": "code",
   "execution_count": 55,
   "metadata": {
    "collapsed": false
   },
   "outputs": [
    {
     "name": "stdout",
     "output_type": "stream",
     "text": [
      "Survived\n",
      "0    22.965456\n",
      "1    51.647672\n",
      "Name: Fare, dtype: float64\n",
      "Survived\n",
      "0    31.448825\n",
      "1    70.664499\n",
      "Name: Fare, dtype: float64\n"
     ]
    },
    {
     "data": {
      "text/plain": [
       "<matplotlib.text.Text at 0x11b18f990>"
      ]
     },
     "execution_count": 55,
     "metadata": {},
     "output_type": "execute_result"
    },
    {
     "data": {
      "image/png": "[encoded data removed]",
      "text/plain": [
       "<matplotlib.figure.Figure at 0x11b783290>"
      ]
     },
     "metadata": {},
     "output_type": "display_data"
    }
   ],
   "source": [
    "print titanic.groupby('Survived')['Fare'].mean()\n",
    "print titanic.groupby('Survived')['Fare'].std()\n",
    "tbox=titanic.boxplot(column='Fare', by='Survived',showfliers=False)\n",
    "tbox.set_xticklabels(['unsurvived','survived'])\n",
    "plt.title('Figure 9 Boxplot of Fare for survived and unsurvived passengers')"
   ]
  },
  {
   "cell_type": "markdown",
   "metadata": {},
   "source": [
    "在进一步的分析中，对幸存和遇难的旅客此次乘船的花费进行了比较，结果见图9（Figure 9 Boxplot of Fare for survived and unsurvived passengers），幸存乘客此次旅行平均花费为51.65±70.66，而遇难乘客的花费为22.97±31.45，幸存者的平均船费明显高于遇难者。"
   ]
  },
  {
   "cell_type": "code",
   "execution_count": 60,
   "metadata": {
    "collapsed": false
   },
   "outputs": [
    {
     "name": "stdout",
     "output_type": "stream",
     "text": [
      "Survived  Pclass\n",
      "0         1          64\n",
      "          2          90\n",
      "          3         270\n",
      "1         1         120\n",
      "          2          83\n",
      "          3          85\n",
      "Name: Name, dtype: int64\n",
      "Pclass\n",
      "1    0.652174\n",
      "2    0.479769\n",
      "3    0.239437\n",
      "Name: Survived, dtype: float64\n"
     ]
    },
    {
     "data": {
      "text/plain": [
       "<matplotlib.text.Text at 0x11c075590>"
      ]
     },
     "execution_count": 60,
     "metadata": {},
     "output_type": "execute_result"
    },
    {
     "data": {
      "image/png": "[encoded data removed]",
      "text/plain": [
       "<matplotlib.figure.Figure at 0x11b837950>"
      ]
     },
     "metadata": {},
     "output_type": "display_data"
    }
   ],
   "source": [
    "print titanic.groupby(['Survived','Pclass'])['Name'].count()\n",
    "print titanic.groupby('Pclass')['Survived'].mean()\n",
    "titanic.groupby('Pclass')['Survived'].mean().plot(kind='bar')\n",
    "plt.ylabel('Survival Rate')\n",
    "plt.title('Fugure 10 The Barplot of survival rate by Pclass')"
   ]
  },
  {
   "cell_type": "markdown",
   "metadata": {},
   "source": [
    "在对幸存和遇难乘客所乘坐的船舱等级的对比中，我发现一等舱共120人幸存，64人遇难，二等舱共83人幸存，90人遇难，三等舱约85人幸存，270名遇难，各船舱幸存率见图10（Fugure 10 The Barplot of survival rate by Pclass）从图中可见，一等舱乘客的幸存率达到65.2%，二等舱乘客的幸存率约27.9%，均高于三等舱的幸存率，23.9%。"
   ]
  },
  {
   "cell_type": "code",
   "execution_count": 61,
   "metadata": {
    "collapsed": false
   },
   "outputs": [
    {
     "data": {
      "text/plain": [
       "<matplotlib.text.Text at 0x11c1d74d0>"
      ]
     },
     "execution_count": 61,
     "metadata": {},
     "output_type": "execute_result"
    },
    {
     "data": {
      "image/png": "[encoded data removed]",
      "text/plain": [
       "<matplotlib.figure.Figure at 0x11c0a4210>"
      ]
     },
     "metadata": {},
     "output_type": "display_data"
    }
   ],
   "source": [
    "by_class_sex=titanic.groupby(['Pclass','Sex'])['Survived'].mean()\n",
    "by_class_sex.unstack().plot(kind='bar')\n",
    "plt.title('Figure 11 The Barplot of survival rate for different genders and Pclass')"
   ]
  },
  {
   "cell_type": "code",
   "execution_count": 66,
   "metadata": {
    "collapsed": false
   },
   "outputs": [
    {
     "data": {
      "text/plain": [
       "<matplotlib.text.Text at 0x11c779390>"
      ]
     },
     "execution_count": 66,
     "metadata": {},
     "output_type": "execute_result"
    },
    {
     "data": {
      "image/png": "[encoded data removed]",
      "text/plain": [
       "<matplotlib.figure.Figure at 0x11c406d90>"
      ]
     },
     "metadata": {},
     "output_type": "display_data"
    }
   ],
   "source": [
    "by_age_class=titanic.groupby(['Pclass','age-group'])['Survived'].mean()\n",
    "\n",
    "by_age_class.unstack().plot(kind='bar')\n",
    "plt.title('Figure 12 The Barplot of survival rate for different age groups and Pclass')"
   ]
  },
  {
   "cell_type": "markdown",
   "metadata": {},
   "source": [
    "\n",
    "不同舱的男性和女性存活比例对比见图11（Figure 11 The Barplot of survival rate for different genders and Pclass）。从图11中可以看出对于所有船舱，女性的存活比例均较高，同时1等舱和2等舱的女性存活比例高于三等舱的女性乘客，三等舱的男性存活比例最低。不同舱中不同年龄组别的幸存率见图12（Figure 12 The Barplot of survival rate for different age groups and Pclass），图中可以看出一等舱和二等舱中0到20岁之间的乘客存活率最高。\n",
    "\n",
    "根据以上的结果我认为，年龄，性别，乘客的经济水平（旅费和船舱等级）均可能与是否获救有关。\n",
    "\n"
   ]
  },
  {
   "cell_type": "code",
   "execution_count": 54,
   "metadata": {
    "collapsed": false
   },
   "outputs": [
    {
     "data": {
      "text/html": [
       "<div>\n",
       "<table border=\"1\" class=\"dataframe\">\n",
       "  <thead>\n",
       "    <tr style=\"text-align: right;\">\n",
       "      <th></th>\n",
       "      <th>Survived</th>\n",
       "      <th>Age</th>\n",
       "      <th>Fare</th>\n",
       "      <th>Pclass</th>\n",
       "      <th>sex</th>\n",
       "    </tr>\n",
       "  </thead>\n",
       "  <tbody>\n",
       "    <tr>\n",
       "      <th>Survived</th>\n",
       "      <td>1.000000</td>\n",
       "      <td>-0.082446</td>\n",
       "      <td>0.266100</td>\n",
       "      <td>-0.356462</td>\n",
       "      <td>-0.536762</td>\n",
       "    </tr>\n",
       "    <tr>\n",
       "      <th>Age</th>\n",
       "      <td>-0.082446</td>\n",
       "      <td>1.000000</td>\n",
       "      <td>0.093143</td>\n",
       "      <td>-0.365902</td>\n",
       "      <td>0.099037</td>\n",
       "    </tr>\n",
       "    <tr>\n",
       "      <th>Fare</th>\n",
       "      <td>0.266100</td>\n",
       "      <td>0.093143</td>\n",
       "      <td>1.000000</td>\n",
       "      <td>-0.552893</td>\n",
       "      <td>-0.182457</td>\n",
       "    </tr>\n",
       "    <tr>\n",
       "      <th>Pclass</th>\n",
       "      <td>-0.356462</td>\n",
       "      <td>-0.365902</td>\n",
       "      <td>-0.552893</td>\n",
       "      <td>1.000000</td>\n",
       "      <td>0.150826</td>\n",
       "    </tr>\n",
       "    <tr>\n",
       "      <th>sex</th>\n",
       "      <td>-0.536762</td>\n",
       "      <td>0.099037</td>\n",
       "      <td>-0.182457</td>\n",
       "      <td>0.150826</td>\n",
       "      <td>1.000000</td>\n",
       "    </tr>\n",
       "  </tbody>\n",
       "</table>\n",
       "</div>"
      ],
      "text/plain": [
       "          Survived       Age      Fare    Pclass       sex\n",
       "Survived  1.000000 -0.082446  0.266100 -0.356462 -0.536762\n",
       "Age      -0.082446  1.000000  0.093143 -0.365902  0.099037\n",
       "Fare      0.266100  0.093143  1.000000 -0.552893 -0.182457\n",
       "Pclass   -0.356462 -0.365902 -0.552893  1.000000  0.150826\n",
       "sex      -0.536762  0.099037 -0.182457  0.150826  1.000000"
      ]
     },
     "execution_count": 54,
     "metadata": {},
     "output_type": "execute_result"
    }
   ],
   "source": [
    "titanic[['Survived','Age','Fare','Pclass','sex']].corr()"
   ]
  },
  {
   "cell_type": "markdown",
   "metadata": {
    "collapsed": true
   },
   "source": [
    "#### 3.6 titanic乘客是否存活与乘客基本信息的相关性分析\n",
    "根据以上结果可以推测年龄，经济实力（乘船所付票价或船舱等级）以及性别对是否存活可能相关。通过计算各变量之间的相关系数，得到是否存活与年龄，经济实力（乘船所付票价或船舱等级）以及性别的相关关系，见上表。从表中可以看出，是否存活与性别成负相关，相关系数为-0.54，由于对男性的赋值为2，女性的赋值为1，可以推断出女性的存活几率高于男性，船费与是否存活的相关系数为0.23，推测船费越高，存活几率越高，同时船舱等级和是否存活呈负相关，相关系数为-0.34，由于船舱等级为一等舱赋值为1，二等舱赋值为2，三等舱赋值为3，从相关系数推测船舱等级越高，存活几率越大。年龄和是否存活呈负相关，即年龄越小，存活率越高，但相关程度不高。\n"
   ]
  },
  {
   "cell_type": "markdown",
   "metadata": {},
   "source": [
    "### 4 结论\n",
    "根据以上的结果，我认为，年龄、性别、乘客的经济水平（旅费和船舱等级）是影响乘客是否存活的因素之一，一等舱和二等舱的女性和儿童的存活比例较高。尽管相关性分析中年龄对乘客是否存活相关系数非常低,但由于本研究年龄变量的缺失较为严重，缺失率达到20%，剔除缺失的数据后可能会对本研究的结果造成偏倚。\n"
   ]
  },
  {
   "cell_type": "code",
   "execution_count": null,
   "metadata": {
    "collapsed": true
   },
   "outputs": [],
   "source": []
  }
 ],
 "metadata": {
  "kernelspec": {
   "display_name": "Python 2",
   "language": "python",
   "name": "python2"
  },
  "language_info": {
   "codemirror_mode": {
    "name": "ipython",
    "version": 2
   },
   "file_extension": ".py",
   "mimetype": "text/x-python",
   "name": "python",
   "nbconvert_exporter": "python",
   "pygments_lexer": "ipython2",
   "version": "2.7.13"
  }
 },
 "nbformat": 4,
 "nbformat_minor": 2
}
